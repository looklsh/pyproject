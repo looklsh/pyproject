{
 "cells": [
  {
   "cell_type": "code",
   "execution_count": 8,
   "metadata": {},
   "outputs": [],
   "source": [
    "import cv2\n",
    "\n",
    "img_color = cv2.imread('D:\\\\pyproject\\\\bittestenv\\\\notebook\\\\images\\\\redball.jpg', cv2.IMREAD_COLOR)\n",
    "cv2.imshow('Color', img_color)\n",
    "cv2.waitKey(0)\n",
    "\n",
    "img_gray = cv2.cvtColor(img_color, cv2.COLOR_BGR2GRAY)\n",
    "cv2.imshow('Gray', img_gray)\n",
    "cv2.waitKey(0)\n",
    "\n",
    "ret, img_binary = cv2.threshold(img_gray, 127, 255, cv2.THRESH_BINARY)\n",
    "cv2.imshow('Binary', img_binary)\n",
    "cv2.waitKey(0)\n",
    "\n",
    "cv2.destroyAllWindows()"
   ]
  },
  {
   "cell_type": "code",
   "execution_count": 12,
   "metadata": {},
   "outputs": [],
   "source": []
  }
 ],
 "metadata": {
  "kernelspec": {
   "display_name": "Python 3",
   "language": "python",
   "name": "python3"
  },
  "language_info": {
   "codemirror_mode": {
    "name": "ipython",
    "version": 3
   },
   "file_extension": ".py",
   "mimetype": "text/x-python",
   "name": "python",
   "nbconvert_exporter": "python",
   "pygments_lexer": "ipython3",
   "version": "3.7.5"
  }
 },
 "nbformat": 4,
 "nbformat_minor": 2
}
