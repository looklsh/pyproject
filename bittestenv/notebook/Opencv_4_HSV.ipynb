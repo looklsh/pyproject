{
 "cells": [
  {
   "cell_type": "code",
   "execution_count": null,
   "metadata": {},
   "outputs": [],
   "source": [
    "import numpy as np\n",
    "import cv2\n",
    "\n",
    "color = [255, 0, 0]\n",
    "pixel = np.uint8([[color]])\n",
    "\n",
    "hsv = cv2.cvtColor(pixel, cv2.COLOR_BGR2HSV)\n",
    "hsv = hsv[0][0]\n",
    "\n",
    "print(\"bgr:\", color)\n",
    "print(\"hsv:\", hsv)"
   ]
  },
  {
   "cell_type": "code",
   "execution_count": null,
   "metadata": {},
   "outputs": [],
   "source": [
    "img_color = cv2.imread('C:\\\\pytest\\\\bittestenv\\\\notebook\\\\images\\\\2.jpg')\n",
    "height, width = img_color.shape[:2]\n",
    "\n",
    "img_hsv = cv2.cvtColor(img_color, cv2.COLOR_BGR2HSV)\n",
    "\n",
    "lower_blue = (120-10, 30, 30)\n",
    "upper_blue = (120+10, 255, 255)\n",
    "\n",
    "img_mask = cv2.inRange(img_hsv, lower_blue, upper_blue)\n",
    "\n",
    "img_result = cv2.bitwise_and(img_color, img_color, mask=img_mask)\n",
    "\n",
    "cv2.imshow('img_color', img_color)\n",
    "cv2.imshow('img_mask', img_mask)\n",
    "cv2.imshow('img_result', img_result)\n",
    "\n",
    "cv2.waitKey(0)\n",
    "cv2.destroyAllWindows()"
   ]
  }
 ],
 "metadata": {
  "kernelspec": {
   "display_name": "Python 3",
   "language": "python",
   "name": "python3"
  },
  "language_info": {
   "codemirror_mode": {
    "name": "ipython",
    "version": 3
   },
   "file_extension": ".py",
   "mimetype": "text/x-python",
   "name": "python",
   "nbconvert_exporter": "python",
   "pygments_lexer": "ipython3",
   "version": "3.7.5"
  }
 },
 "nbformat": 4,
 "nbformat_minor": 2
}
