{
 "cells": [
  {
   "cell_type": "code",
   "execution_count": 2,
   "metadata": {},
   "outputs": [],
   "source": [
    "import cv2 as cv\n",
    "import numpy as np"
   ]
  },
  {
   "cell_type": "code",
   "execution_count": 2,
   "metadata": {},
   "outputs": [],
   "source": [
    "# img_color = cv.imread('D:\\\\pyproject\\\\bittestenv\\\\notebook\\\\images\\\\test.png')\n",
    "# img_gray = cv.cvtColor(img_color, cv.COLOR_BGR2GRAY)\n",
    "# ret, img_binary = cv.threshold(img_gray, 127, 255, 0)\n",
    "# contours, hierarchy = cv.findContours(img_binary, cv.RETR_LIST, cv.CHAIN_APPROX_SIMPLE)\n",
    "\n",
    "# cv.imshow('result', img_color)\n",
    "# cv.waitKey(0)\n",
    "\n",
    "# cv.destroyAllWindows()"
   ]
  },
  {
   "cell_type": "code",
   "execution_count": 4,
   "metadata": {},
   "outputs": [],
   "source": [
    "# img_color = cv.imread('D:\\\\pyproject\\\\bittestenv\\\\notebook\\\\images\\\\test.png')\n",
    "# img_gray = cv.cvtColor(img_color, cv.COLOR_BGR2GRAY)\n",
    "# ret, img_binary = cv.threshold(img_gray, 127, 255, 0)\n",
    "# contours, hierarchy = cv.findContours(img_binary, cv.RETR_LIST, cv.CHAIN_APPROX_SIMPLE)\n",
    "\n",
    "# cv.drawContours(img_color, contours, 0, (0, 255, 0), 3)\n",
    "# cv.drawContours(img_color, contours, 1, (255, 0, 0), 3)\n",
    "\n",
    "# cv.imshow('result', img_color)\n",
    "# cv.waitKey(0)\n",
    "\n",
    "# cv.destroyAllWindows()  "
   ]
  },
  {
   "cell_type": "code",
   "execution_count": 9,
   "metadata": {},
   "outputs": [],
   "source": [
    "# img_color = cv.imread('D:\\\\pyproject\\\\bittestenv\\\\notebook\\\\images\\\\hierarchy.jpg')\n",
    "# img_gray = cv.cvtColor(img_color, cv.COLOR_BGR2GRAY)\n",
    "# ret, img_binary = cv.threshold(img_gray, 127, 255, 0)\n",
    "# contours, hierarchy = cv.findContours(img_binary, cv.RETR_LIST, cv.CHAIN_APPROX_SIMPLE)\n",
    "\n",
    "# for cnt in contours:\n",
    "#     for p in cnt:\n",
    "#         cv.circle(img_color, (p[0][0], p[0][1]), 10, (255, 0, 0), -1)\n",
    "\n",
    "# cv.imshow('result', img_color)\n",
    "# cv.waitKey(0)\n",
    "\n",
    "# cv.destroyAllWindows()  "
   ]
  },
  {
   "cell_type": "code",
   "execution_count": 17,
   "metadata": {},
   "outputs": [
    {
     "name": "stdout",
     "output_type": "stream",
     "text": [
      "[[[ 3 -1  1 -1]\n",
      "  [ 2 -1 -1  0]\n",
      "  [-1  1 -1  0]\n",
      "  [ 5  0  4 -1]\n",
      "  [-1 -1 -1  3]\n",
      "  [ 7  3  6 -1]\n",
      "  [-1 -1 -1  5]\n",
      "  [ 8  5 -1 -1]\n",
      "  [-1  7 -1 -1]]]\n"
     ]
    }
   ],
   "source": [
    "img_color = cv.imread('D:\\\\pyproject\\\\bittestenv\\\\notebook\\\\images\\\\hierarchy.jpg')\n",
    "img_gray = cv.cvtColor(img_color, cv.COLOR_BGR2GRAY)\n",
    "ret, img_binary = cv.threshold(img_gray, 127, 255, 0)\n",
    "contours, hierarchy = cv.findContours(img_binary, cv.RETR_CCOMP, cv.CHAIN_APPROX_SIMPLE)\n",
    "\n",
    "for cnt in contours:\n",
    "    cv.drawContours(img_color, [cnt], 0, (255, 0, 0), 3)\n",
    "    \n",
    "print(hierarchy)\n",
    "\n",
    "cv.imshow('result', img_color)\n",
    "cv.waitKey(0)\n",
    "\n",
    "cv.destroyAllWindows()  "
   ]
  },
  {
   "cell_type": "code",
   "execution_count": 22,
   "metadata": {},
   "outputs": [
    {
     "name": "stdout",
     "output_type": "stream",
     "text": [
      "18772.0\n",
      "13426.0\n"
     ]
    }
   ],
   "source": [
    "# 영역 크기\n",
    "\n",
    "img_color = cv.imread('D:\\\\pyproject\\\\bittestenv\\\\notebook\\\\images\\\\test.png')\n",
    "img_gray = cv.cvtColor(img_color, cv.COLOR_BGR2GRAY)\n",
    "ret, img_binary = cv.threshold(img_gray, 127, 255, 0)\n",
    "contours, hierarchy = cv.findContours(img_binary, cv.RETR_LIST, cv.CHAIN_APPROX_SIMPLE)\n",
    "\n",
    "for cnt in contours:\n",
    "    cv.drawContours(img_color, [cnt], 0, (255, 0, 0), 3)\n",
    "    \n",
    "\n",
    "\n",
    "cv.imshow('result', img_color)\n",
    "cv.waitKey(0)\n",
    "\n",
    "for cnt in contours:\n",
    "    area = cv.contourArea(cnt)\n",
    "    print(area)\n",
    "    \n",
    "cv.imshow('result', img_color)\n",
    "cv.waitKey(0)\n",
    "\n",
    "cv.destroyAllWindows() "
   ]
  },
  {
   "cell_type": "code",
   "execution_count": 25,
   "metadata": {},
   "outputs": [
    {
     "name": "stdout",
     "output_type": "stream",
     "text": [
      "4\n"
     ]
    }
   ],
   "source": [
    "# 근사화\n",
    "\n",
    "img_color = cv.imread('D:\\\\pyproject\\\\bittestenv\\\\notebook\\\\images\\\\box.png')\n",
    "img_gray = cv.cvtColor(img_color, cv.COLOR_BGR2GRAY)\n",
    "ret, img_binary = cv.threshold(img_gray, 127, 255, 0)\n",
    "contours, hierarchy = cv.findContours(img_binary, cv.RETR_LIST, cv.CHAIN_APPROX_SIMPLE)\n",
    "\n",
    "for cnt in contours:\n",
    "    cv.drawContours(img_color, [cnt], 0, (255, 0, 0), 3)\n",
    "    \n",
    "\n",
    "\n",
    "cv.imshow('result', img_color)\n",
    "cv.waitKey(0)\n",
    "\n",
    "for cnt in contours:\n",
    "    epsilon = 0.02 * cv.arcLength(cnt, True)\n",
    "    approx = cv.approxPolyDP(cnt, epsilon, True)\n",
    "    print(len(approx))\n",
    "    \n",
    "    cv.drawContours(img_color, [approx], 0, (0, 255, 255), 5)\n",
    "    \n",
    "cv.imshow('result', img_color)\n",
    "cv.waitKey(0)\n",
    "\n",
    "cv.destroyAllWindows() "
   ]
  },
  {
   "cell_type": "code",
   "execution_count": 27,
   "metadata": {},
   "outputs": [],
   "source": [
    "# 무게중심 \n",
    "\n",
    "img_color = cv.imread('D:\\\\pyproject\\\\bittestenv\\\\notebook\\\\images\\\\test.png')\n",
    "img_gray = cv.cvtColor(img_color, cv.COLOR_BGR2GRAY)\n",
    "ret, img_binary = cv.threshold(img_gray, 127, 255, 0)\n",
    "contours, hierarchy = cv.findContours(img_binary, cv.RETR_LIST, cv.CHAIN_APPROX_SIMPLE)\n",
    "\n",
    "for cnt in contours:\n",
    "    cv.drawContours(img_color, [cnt], 0, (255, 0, 0), 3)\n",
    "    \n",
    "\n",
    "\n",
    "cv.imshow('result', img_color)\n",
    "cv.waitKey(0)\n",
    "\n",
    "for cnt in contours:\n",
    "    M = cv.moments(cnt)\n",
    "    \n",
    "    cx = int(M['m10']/M['m00'])\n",
    "    cy = int(M['m01']/M['m00'])\n",
    "    \n",
    "    cv.circle(img_color, (cx, cy), 10, (0, 0, 255), -1)\n",
    "    \n",
    "    \n",
    "    \n",
    "cv.imshow('result', img_color)\n",
    "cv.waitKey(0)\n",
    "\n",
    "cv.destroyAllWindows() "
   ]
  },
  {
   "cell_type": "code",
   "execution_count": 3,
   "metadata": {},
   "outputs": [],
   "source": [
    "# 경계 사각형\n",
    "\n",
    "img_color = cv.imread('D:\\\\pyproject\\\\bittestenv\\\\notebook\\\\images\\\\test.png')\n",
    "img_gray = cv.cvtColor(img_color, cv.COLOR_BGR2GRAY)\n",
    "ret, img_binary = cv.threshold(img_gray, 127, 255, 0)\n",
    "contours, hierarchy = cv.findContours(img_binary, cv.RETR_LIST, cv.CHAIN_APPROX_SIMPLE)\n",
    "\n",
    "for cnt in contours:\n",
    "    cv.drawContours(img_color, [cnt], 0, (255, 0, 0), 3)\n",
    "    \n",
    "\n",
    "\n",
    "cv.imshow('result', img_color)\n",
    "cv.waitKey(0)\n",
    "\n",
    "for cnt in contours:\n",
    "    x, y, w, h = cv.boundingRect(cnt)\n",
    "    cv.rectangle(img_color, (x, y), (x + w, y + h), (0, 255, 0), 2)\n",
    "    \n",
    "cv.imshow('result', img_color)\n",
    "cv.waitKey(0)\n",
    "\n",
    "for cnt in contours:\n",
    "    rect = cv.minAreaRect(cnt)\n",
    "    box = cv.boxPoints(rect)\n",
    "    box = np.int0(box)\n",
    "    cv.drawContours(img_color, [box], 0, (0, 0, 255), 2)\n",
    "    \n",
    "cv.imshow('result', img_color)\n",
    "cv.waitKey(0)\n",
    "\n",
    "cv.destroyAllWindows() "
   ]
  },
  {
   "cell_type": "code",
   "execution_count": 6,
   "metadata": {},
   "outputs": [],
   "source": [
    "# convex hull\n",
    "\n",
    "img_color = cv.imread('D:\\\\pyproject\\\\bittestenv\\\\notebook\\\\images\\\\hand.png')\n",
    "img_gray = cv.cvtColor(img_color, cv.COLOR_BGR2GRAY)\n",
    "ret, img_binary = cv.threshold(img_gray, 127, 255, 0)\n",
    "contours, hierarchy = cv.findContours(img_binary, cv.RETR_LIST, cv.CHAIN_APPROX_SIMPLE)\n",
    "\n",
    "for cnt in contours:\n",
    "    cv.drawContours(img_color, [cnt], 0, (255, 0, 0), 3)\n",
    "    \n",
    "\n",
    "\n",
    "cv.imshow('result', img_color)\n",
    "cv.waitKey(0)\n",
    "\n",
    "for cnt in contours:\n",
    "    hull = cv.convexHull(cnt)\n",
    "    cv.drawContours(img_color, [hull], 0, (255, 0, 255), 5)\n",
    "  \n",
    "    \n",
    "cv.imshow('result', img_color)\n",
    "cv.waitKey(0)\n",
    "\n",
    "cv.destroyAllWindows() "
   ]
  },
  {
   "cell_type": "code",
   "execution_count": 7,
   "metadata": {},
   "outputs": [
    {
     "name": "stdout",
     "output_type": "stream",
     "text": [
      "114\n",
      "31505\n",
      "142\n",
      "114\n",
      "162\n",
      "38208\n",
      "190\n",
      "40643\n",
      "160\n",
      "33132\n",
      "142\n",
      "114\n",
      "186\n",
      "210\n",
      "114\n",
      "5377\n",
      "169\n",
      "1088\n",
      "1267\n"
     ]
    }
   ],
   "source": [
    "# convex defects\n",
    "\n",
    "img_color = cv.imread('D:\\\\pyproject\\\\bittestenv\\\\notebook\\\\images\\\\hand.png')\n",
    "img_gray = cv.cvtColor(img_color, cv.COLOR_BGR2GRAY)\n",
    "ret, img_binary = cv.threshold(img_gray, 127, 255, 0)\n",
    "contours, hierarchy = cv.findContours(img_binary, cv.RETR_LIST, cv.CHAIN_APPROX_SIMPLE)\n",
    "\n",
    "for cnt in contours:\n",
    "    cv.drawContours(img_color, [cnt], 0, (255, 0, 0), 3)\n",
    "    \n",
    "\n",
    "\n",
    "cv.imshow('result', img_color)\n",
    "cv.waitKey(0)\n",
    "\n",
    "for cnt in contours:\n",
    "    hull = cv.convexHull(cnt)\n",
    "    cv.drawContours(img_color, [hull], 0, (255, 0, 255), 5)\n",
    "  \n",
    "    \n",
    "cv.imshow('result', img_color)\n",
    "cv.waitKey(0)\n",
    "\n",
    "for cnt in contours:\n",
    "    hull = cv.convexHull(cnt, returnPoints = False)\n",
    "    defects = cv.convexityDefects(cnt, hull)\n",
    "    \n",
    "    for i in range(defects.shape[0]):\n",
    "        s, e, f, d = defects[i,0]\n",
    "        start = tuple(cnt[s][0])\n",
    "        end = tuple(cnt[e][0])\n",
    "        far = tuple(cnt[f][0])\n",
    "        \n",
    "        print(d)\n",
    "        \n",
    "        if d > 500:\n",
    "            cv.line(img_color, start, end, [0, 255, 0], 5)\n",
    "            cv.circle(img_color, far, 5, [0, 0, 255], -1)\n",
    "            \n",
    "        cv.imshow('result', img_color)\n",
    "        cv.waitKey(0)\n",
    "\n",
    "cv.destroyAllWindows() "
   ]
  }
 ],
 "metadata": {
  "kernelspec": {
   "display_name": "Python 3",
   "language": "python",
   "name": "python3"
  },
  "language_info": {
   "codemirror_mode": {
    "name": "ipython",
    "version": 3
   },
   "file_extension": ".py",
   "mimetype": "text/x-python",
   "name": "python",
   "nbconvert_exporter": "python",
   "pygments_lexer": "ipython3",
   "version": "3.7.5"
  }
 },
 "nbformat": 4,
 "nbformat_minor": 2
}
